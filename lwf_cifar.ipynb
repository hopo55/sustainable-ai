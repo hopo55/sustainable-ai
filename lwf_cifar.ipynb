{
 "cells": [
  {
   "cell_type": "code",
   "execution_count": 7,
   "metadata": {},
   "outputs": [],
   "source": [
    "import random\n",
    "import argparse\n",
    "import numpy as np\n",
    "import datetime as dt\n",
    "\n",
    "import torch\n",
    "import torchvision\n",
    "import avalanche\n",
    "import torch.backends.cudnn as cudnn\n",
    "\n",
    "from avalanche.logging import InteractiveLogger, TensorboardLogger\n",
    "from avalanche.evaluation.metrics import ExperienceAccuracy, EpochAccuracy, StreamAccuracy\n",
    "\n",
    "from avalanche.training.plugins import ReplayPlugin, EvaluationPlugin\n",
    "from avalanche.training.storage_policy import ClassBalancedBuffer\n",
    "from avalanche.training.storage_policy import ReservoirSamplingBuffer"
   ]
  },
  {
   "cell_type": "markdown",
   "metadata": {},
   "source": [
    "### Argument"
   ]
  },
  {
   "cell_type": "code",
   "execution_count": 8,
   "metadata": {},
   "outputs": [],
   "source": [
    "parser = argparse.ArgumentParser()\n",
    "parser.add_argument('--seed', type=int, default=0)\n",
    "parser.add_argument('--num_class', type=int, default=10)\n",
    "parser.add_argument('--dataset', type=str, default='cifar10', choices=['cifar10', 'cifar10'])\n",
    "parser.add_argument('--device', type=str, default='0')\n",
    "parser.add_argument('--lr', '--learning_rate', type=float, default=0.001)\n",
    "parser.add_argument('--alpha', type=float, default=1.)\n",
    "parser.add_argument('--temperature', type=float, default=2.)\n",
    "parser.add_argument('--train_mb', type=int, default=512)\n",
    "parser.add_argument('--eval_mb', type=int, default=256)\n",
    "parser.add_argument('--epoch', type=int, default=10)\n",
    "# continual learning settings\n",
    "parser.add_argument('--increment', type=int, default=10)\n",
    "parser.add_argument('--memory_size', type=int, default=500)\n",
    "parser.add_argument('--buffer_weights', type=float, default=0, help='random uniform value in [0, 1]')\n",
    "\n",
    "args = parser.parse_args(args=[])"
   ]
  },
  {
   "cell_type": "markdown",
   "metadata": {},
   "source": [
    "### Set Seed & Device"
   ]
  },
  {
   "cell_type": "code",
   "execution_count": 9,
   "metadata": {},
   "outputs": [],
   "source": [
    "random.seed(args.seed)\n",
    "np.random.seed(args.seed)\n",
    "torch.manual_seed(args.seed)\n",
    "torch.cuda.manual_seed(args.seed)\n",
    "cudnn.enabled = False\n",
    "cudnn.deterministic = True\n",
    "\n",
    "device = torch.device('cuda:' + args.device if torch.cuda.is_available() else 'cpu')\n",
    "args.device = torch.device(device)"
   ]
  },
  {
   "cell_type": "markdown",
   "metadata": {},
   "source": [
    "### Load Dataset"
   ]
  },
  {
   "cell_type": "code",
   "execution_count": 10,
   "metadata": {},
   "outputs": [
    {
     "name": "stdout",
     "output_type": "stream",
     "text": [
      "Files already downloaded and verified\n",
      "Files already downloaded and verified\n"
     ]
    }
   ],
   "source": [
    "if args.dataset == 'cifar10':\n",
    "    #cifar10 train and eval used default transform (default)\n",
    "    benchmark = avalanche.benchmarks.SplitCIFAR10(n_experiences=args.increment,\n",
    "                                                  return_task_id=False,\n",
    "                                                  seed=args.seed,\n",
    "                                                  shuffle=True)\n",
    "elif args.dataset == 'cifar10':\n",
    "    #cifar100 train and eval used default transform\n",
    "    args.num_class = 100\n",
    "    benchmark = avalanche.benchmarks.SplitCIFAR100(n_experiences=args.increment,\n",
    "                                                  return_task_id=False,\n",
    "                                                  seed=args.seed,\n",
    "                                                  shuffle=True)"
   ]
  },
  {
   "cell_type": "markdown",
   "metadata": {},
   "source": [
    "### Evaulation"
   ]
  },
  {
   "cell_type": "code",
   "execution_count": 11,
   "metadata": {},
   "outputs": [],
   "source": [
    "date = dt.datetime.now()\n",
    "date = date.strftime(\"%Y_%m_%d_%H_%M_%S\")\n",
    "\n",
    "interactive_logger = InteractiveLogger()\n",
    "tensor_logger = TensorboardLogger(\"logs/\" + args.dataset + '/' + date)\n",
    "\n",
    "eval_plugin = EvaluationPlugin(\n",
    "    EpochAccuracy(),\n",
    "    ExperienceAccuracy(),\n",
    "    StreamAccuracy(),\n",
    "    loggers=[interactive_logger, tensor_logger]\n",
    ")"
   ]
  },
  {
   "cell_type": "markdown",
   "metadata": {},
   "source": [
    "### Backbone Model"
   ]
  },
  {
   "cell_type": "code",
   "execution_count": 15,
   "metadata": {},
   "outputs": [],
   "source": [
    "model = torchvision.models.resnet18(pretrained=False, num_classes=args.num_class)\n",
    "model.to(args.device)\n",
    "\n",
    "criterion = torch.nn.CrossEntropyLoss()\n",
    "optimizer = torch.optim.SGD(model.parameters(), lr=args.lr)\n",
    "\n",
    "# storage_policy = ClassBalancedBuffer(args.memory_size, adaptive_size=True)\n",
    "storage_policy = ReservoirSamplingBuffer(max_size=args.memory_size) # init = 0\n",
    "replay_plugin = ReplayPlugin(args.memory_size, storage_policy=storage_policy)"
   ]
  },
  {
   "cell_type": "code",
   "execution_count": 16,
   "metadata": {},
   "outputs": [],
   "source": [
    "cl_strategy = avalanche.training.LwF(\n",
    "    model=model,\n",
    "    optimizer=optimizer,\n",
    "    criterion=criterion,\n",
    "    alpha=args.alpha,\n",
    "    temperature=args.temperature,\n",
    "    train_mb_size=args.train_mb,\n",
    "    train_epochs=args.epoch,\n",
    "    eval_mb_size=args.eval_mb,\n",
    "    device=args.device,\n",
    "    plugins=[replay_plugin],\n",
    "    evaluator=eval_plugin)"
   ]
  },
  {
   "cell_type": "code",
   "execution_count": 17,
   "metadata": {},
   "outputs": [
    {
     "name": "stdout",
     "output_type": "stream",
     "text": [
      "-- >> Start of training phase << --\n",
      "100%|██████████| 10/10 [00:07<00:00,  1.35it/s]\n",
      "Epoch 0 ended.\n",
      "\tTop1_Acc_Epoch/train_phase/train_stream/Task000 = 0.7328\n",
      "100%|██████████| 10/10 [00:05<00:00,  1.72it/s]\n",
      "Epoch 1 ended.\n",
      "\tTop1_Acc_Epoch/train_phase/train_stream/Task000 = 0.9990\n",
      "100%|██████████| 10/10 [00:05<00:00,  1.73it/s]\n",
      "Epoch 2 ended.\n",
      "\tTop1_Acc_Epoch/train_phase/train_stream/Task000 = 1.0000\n",
      "100%|██████████| 10/10 [00:05<00:00,  1.67it/s]\n",
      "Epoch 3 ended.\n",
      "\tTop1_Acc_Epoch/train_phase/train_stream/Task000 = 1.0000\n",
      "100%|██████████| 10/10 [00:05<00:00,  1.71it/s]\n",
      "Epoch 4 ended.\n",
      "\tTop1_Acc_Epoch/train_phase/train_stream/Task000 = 1.0000\n",
      "100%|██████████| 10/10 [00:05<00:00,  1.70it/s]\n",
      "Epoch 5 ended.\n",
      "\tTop1_Acc_Epoch/train_phase/train_stream/Task000 = 1.0000\n",
      "100%|██████████| 10/10 [00:05<00:00,  1.71it/s]\n",
      "Epoch 6 ended.\n",
      "\tTop1_Acc_Epoch/train_phase/train_stream/Task000 = 1.0000\n",
      "100%|██████████| 10/10 [00:05<00:00,  1.72it/s]\n",
      "Epoch 7 ended.\n",
      "\tTop1_Acc_Epoch/train_phase/train_stream/Task000 = 1.0000\n",
      "100%|██████████| 10/10 [00:05<00:00,  1.70it/s]\n",
      "Epoch 8 ended.\n",
      "\tTop1_Acc_Epoch/train_phase/train_stream/Task000 = 1.0000\n",
      "100%|██████████| 10/10 [00:05<00:00,  1.72it/s]\n",
      "Epoch 9 ended.\n",
      "\tTop1_Acc_Epoch/train_phase/train_stream/Task000 = 1.0000\n",
      "-- >> End of training phase << --\n",
      "-- >> Start of eval phase << --\n",
      "-- Starting eval on experience 0 (Task 0) from test stream --\n",
      "100%|██████████| 4/4 [00:00<00:00,  7.52it/s]\n",
      "> Eval on experience 0 (Task 0) from test stream ended.\n",
      "\tTop1_Acc_Exp/eval_phase/test_stream/Task000/Exp000 = 1.0000\n",
      "-- Starting eval on experience 1 (Task 0) from test stream --\n",
      "100%|██████████| 4/4 [00:00<00:00,  7.58it/s]\n",
      "> Eval on experience 1 (Task 0) from test stream ended.\n",
      "\tTop1_Acc_Exp/eval_phase/test_stream/Task000/Exp001 = 0.0000\n",
      "-- Starting eval on experience 2 (Task 0) from test stream --\n",
      "100%|██████████| 4/4 [00:00<00:00,  8.29it/s]\n",
      "> Eval on experience 2 (Task 0) from test stream ended.\n",
      "\tTop1_Acc_Exp/eval_phase/test_stream/Task000/Exp002 = 0.0000\n",
      "-- Starting eval on experience 3 (Task 0) from test stream --\n",
      "100%|██████████| 4/4 [00:00<00:00,  8.13it/s]\n",
      "> Eval on experience 3 (Task 0) from test stream ended.\n",
      "\tTop1_Acc_Exp/eval_phase/test_stream/Task000/Exp003 = 0.0000\n",
      "-- Starting eval on experience 4 (Task 0) from test stream --\n",
      "100%|██████████| 4/4 [00:00<00:00,  8.31it/s]\n",
      "> Eval on experience 4 (Task 0) from test stream ended.\n",
      "\tTop1_Acc_Exp/eval_phase/test_stream/Task000/Exp004 = 0.0000\n",
      "-- Starting eval on experience 5 (Task 0) from test stream --\n",
      "100%|██████████| 4/4 [00:00<00:00,  8.29it/s]\n",
      "> Eval on experience 5 (Task 0) from test stream ended.\n",
      "\tTop1_Acc_Exp/eval_phase/test_stream/Task000/Exp005 = 0.0000\n",
      "-- Starting eval on experience 6 (Task 0) from test stream --\n",
      "100%|██████████| 4/4 [00:00<00:00,  7.91it/s]\n",
      "> Eval on experience 6 (Task 0) from test stream ended.\n",
      "\tTop1_Acc_Exp/eval_phase/test_stream/Task000/Exp006 = 0.0000\n",
      "-- Starting eval on experience 7 (Task 0) from test stream --\n",
      "100%|██████████| 4/4 [00:00<00:00,  8.35it/s]\n",
      "> Eval on experience 7 (Task 0) from test stream ended.\n",
      "\tTop1_Acc_Exp/eval_phase/test_stream/Task000/Exp007 = 0.0000\n",
      "-- Starting eval on experience 8 (Task 0) from test stream --\n",
      "100%|██████████| 4/4 [00:00<00:00,  7.90it/s]\n",
      "> Eval on experience 8 (Task 0) from test stream ended.\n",
      "\tTop1_Acc_Exp/eval_phase/test_stream/Task000/Exp008 = 0.0000\n",
      "-- Starting eval on experience 9 (Task 0) from test stream --\n",
      "100%|██████████| 4/4 [00:00<00:00,  7.35it/s]\n",
      "> Eval on experience 9 (Task 0) from test stream ended.\n",
      "\tTop1_Acc_Exp/eval_phase/test_stream/Task000/Exp009 = 0.0000\n",
      "-- >> End of eval phase << --\n",
      "\tTop1_Acc_Stream/eval_phase/test_stream/Task000 = 0.1000\n",
      "-- >> Start of training phase << --\n",
      "100%|██████████| 10/10 [00:14<00:00,  1.46s/it]\n",
      "Epoch 0 ended.\n",
      "\tTop1_Acc_Epoch/train_phase/train_stream/Task000 = 0.5003\n",
      "100%|██████████| 10/10 [00:14<00:00,  1.46s/it]\n",
      "Epoch 1 ended.\n",
      "\tTop1_Acc_Epoch/train_phase/train_stream/Task000 = 0.5601\n",
      "100%|██████████| 10/10 [00:14<00:00,  1.46s/it]\n",
      "Epoch 2 ended.\n",
      "\tTop1_Acc_Epoch/train_phase/train_stream/Task000 = 0.6825\n",
      "100%|██████████| 10/10 [00:14<00:00,  1.48s/it]\n",
      "Epoch 3 ended.\n",
      "\tTop1_Acc_Epoch/train_phase/train_stream/Task000 = 0.7321\n",
      "100%|██████████| 10/10 [00:14<00:00,  1.47s/it]\n",
      "Epoch 4 ended.\n",
      "\tTop1_Acc_Epoch/train_phase/train_stream/Task000 = 0.7504\n",
      "100%|██████████| 10/10 [00:14<00:00,  1.48s/it]\n",
      "Epoch 5 ended.\n",
      "\tTop1_Acc_Epoch/train_phase/train_stream/Task000 = 0.7688\n",
      "100%|██████████| 10/10 [00:14<00:00,  1.47s/it]\n",
      "Epoch 6 ended.\n",
      "\tTop1_Acc_Epoch/train_phase/train_stream/Task000 = 0.7858\n",
      "100%|██████████| 10/10 [00:14<00:00,  1.48s/it]\n",
      "Epoch 7 ended.\n",
      "\tTop1_Acc_Epoch/train_phase/train_stream/Task000 = 0.7948\n",
      "100%|██████████| 10/10 [00:14<00:00,  1.48s/it]\n",
      "Epoch 8 ended.\n",
      "\tTop1_Acc_Epoch/train_phase/train_stream/Task000 = 0.8014\n",
      "100%|██████████| 10/10 [00:14<00:00,  1.48s/it]\n",
      "Epoch 9 ended.\n",
      "\tTop1_Acc_Epoch/train_phase/train_stream/Task000 = 0.8089\n",
      "-- >> End of training phase << --\n",
      "-- >> Start of eval phase << --\n",
      "-- Starting eval on experience 0 (Task 0) from test stream --\n",
      "100%|██████████| 4/4 [00:00<00:00,  7.71it/s]\n",
      "> Eval on experience 0 (Task 0) from test stream ended.\n",
      "\tTop1_Acc_Exp/eval_phase/test_stream/Task000/Exp000 = 0.8980\n",
      "-- Starting eval on experience 1 (Task 0) from test stream --\n",
      "100%|██████████| 4/4 [00:00<00:00,  8.02it/s]\n",
      "> Eval on experience 1 (Task 0) from test stream ended.\n",
      "\tTop1_Acc_Exp/eval_phase/test_stream/Task000/Exp001 = 0.7230\n",
      "-- Starting eval on experience 2 (Task 0) from test stream --\n",
      "100%|██████████| 4/4 [00:00<00:00,  7.85it/s]\n",
      "> Eval on experience 2 (Task 0) from test stream ended.\n",
      "\tTop1_Acc_Exp/eval_phase/test_stream/Task000/Exp002 = 0.0000\n",
      "-- Starting eval on experience 3 (Task 0) from test stream --\n",
      "100%|██████████| 4/4 [00:00<00:00,  7.45it/s]\n",
      "> Eval on experience 3 (Task 0) from test stream ended.\n",
      "\tTop1_Acc_Exp/eval_phase/test_stream/Task000/Exp003 = 0.0000\n",
      "-- Starting eval on experience 4 (Task 0) from test stream --\n",
      "100%|██████████| 4/4 [00:00<00:00,  7.09it/s]\n",
      "> Eval on experience 4 (Task 0) from test stream ended.\n",
      "\tTop1_Acc_Exp/eval_phase/test_stream/Task000/Exp004 = 0.0000\n",
      "-- Starting eval on experience 5 (Task 0) from test stream --\n",
      "100%|██████████| 4/4 [00:00<00:00,  7.74it/s]\n",
      "> Eval on experience 5 (Task 0) from test stream ended.\n",
      "\tTop1_Acc_Exp/eval_phase/test_stream/Task000/Exp005 = 0.0000\n",
      "-- Starting eval on experience 6 (Task 0) from test stream --\n",
      "100%|██████████| 4/4 [00:00<00:00,  7.24it/s]\n",
      "> Eval on experience 6 (Task 0) from test stream ended.\n",
      "\tTop1_Acc_Exp/eval_phase/test_stream/Task000/Exp006 = 0.0000\n",
      "-- Starting eval on experience 7 (Task 0) from test stream --\n",
      "100%|██████████| 4/4 [00:00<00:00,  8.17it/s]\n",
      "> Eval on experience 7 (Task 0) from test stream ended.\n",
      "\tTop1_Acc_Exp/eval_phase/test_stream/Task000/Exp007 = 0.0000\n",
      "-- Starting eval on experience 8 (Task 0) from test stream --\n",
      "100%|██████████| 4/4 [00:00<00:00,  7.45it/s]\n",
      "> Eval on experience 8 (Task 0) from test stream ended.\n",
      "\tTop1_Acc_Exp/eval_phase/test_stream/Task000/Exp008 = 0.0000\n",
      "-- Starting eval on experience 9 (Task 0) from test stream --\n",
      "100%|██████████| 4/4 [00:00<00:00,  7.92it/s]\n",
      "> Eval on experience 9 (Task 0) from test stream ended.\n",
      "\tTop1_Acc_Exp/eval_phase/test_stream/Task000/Exp009 = 0.0000\n",
      "-- >> End of eval phase << --\n",
      "\tTop1_Acc_Stream/eval_phase/test_stream/Task000 = 0.1621\n",
      "-- >> Start of training phase << --\n",
      " 90%|█████████ | 9/10 [00:13<00:01,  1.50s/it]"
     ]
    }
   ],
   "source": [
    "res = None\n",
    "for experience in benchmark.train_stream:\n",
    "    cl_strategy.train(experience)\n",
    "    res = cl_strategy.eval(benchmark.test_stream)"
   ]
  },
  {
   "cell_type": "code",
   "execution_count": null,
   "metadata": {},
   "outputs": [],
   "source": []
  }
 ],
 "metadata": {
  "kernelspec": {
   "display_name": "lab",
   "language": "python",
   "name": "python3"
  },
  "language_info": {
   "codemirror_mode": {
    "name": "ipython",
    "version": 3
   },
   "file_extension": ".py",
   "mimetype": "text/x-python",
   "name": "python",
   "nbconvert_exporter": "python",
   "pygments_lexer": "ipython3",
   "version": "3.10.6"
  },
  "orig_nbformat": 4
 },
 "nbformat": 4,
 "nbformat_minor": 2
}
