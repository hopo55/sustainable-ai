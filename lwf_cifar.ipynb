{
 "cells": [
  {
   "cell_type": "code",
   "execution_count": null,
   "metadata": {},
   "outputs": [],
   "source": [
    "import random\n",
    "import argparse\n",
    "import numpy as np\n",
    "import datetime as dt\n",
    "\n",
    "import torch\n",
    "import torchvision\n",
    "import avalanche\n",
    "import torch.backends.cudnn as cudnn\n",
    "\n",
    "from avalanche.logging import InteractiveLogger, TensorboardLogger\n",
    "from avalanche.evaluation.metrics import ExperienceAccuracy, EpochAccuracy, StreamAccuracy\n",
    "\n",
    "from avalanche.training.plugins import ReplayPlugin, EvaluationPlugin\n",
    "from avalanche.training.storage_policy import ClassBalancedBuffer\n",
    "from avalanche.training.storage_policy import ReservoirSamplingBuffer"
   ]
  },
  {
   "cell_type": "markdown",
   "metadata": {},
   "source": [
    "### Argument"
   ]
  },
  {
   "cell_type": "code",
   "execution_count": null,
   "metadata": {},
   "outputs": [],
   "source": [
    "parser = argparse.ArgumentParser()\n",
    "parser.add_argument('--seed', type=int, default=0)\n",
    "parser.add_argument('--num_class', type=int, default=10)\n",
    "parser.add_argument('--dataset', type=str, default='cifar10', choices=['cifar10', 'cifar10'])\n",
    "parser.add_argument('--device', type=str, default='0')\n",
    "parser.add_argument('--lr', '--learning_rate', type=float, default=0.001)\n",
    "parser.add_argument('--alpha', type=float, default=1.)\n",
    "parser.add_argument('--temperature', type=float, default=2.)\n",
    "parser.add_argument('--train_mb', type=int, default=512)\n",
    "parser.add_argument('--eval_mb', type=int, default=256)\n",
    "parser.add_argument('--epoch', type=int, default=10)\n",
    "# continual learning settings\n",
    "parser.add_argument('--increment', type=int, default=10)\n",
    "parser.add_argument('--memory_size', type=int, default=500)\n",
    "parser.add_argument('--buffer_weights', type=float, default=0, help='random uniform value in [0, 1]')\n",
    "\n",
    "args = parser.parse_args(args=[])"
   ]
  },
  {
   "cell_type": "markdown",
   "metadata": {},
   "source": [
    "### Set Seed & Device"
   ]
  },
  {
   "cell_type": "code",
   "execution_count": null,
   "metadata": {},
   "outputs": [],
   "source": [
    "random.seed(args.seed)\n",
    "np.random.seed(args.seed)\n",
    "torch.manual_seed(args.seed)\n",
    "torch.cuda.manual_seed(args.seed)\n",
    "cudnn.enabled = False\n",
    "cudnn.deterministic = True\n",
    "\n",
    "device = torch.device('cuda:' + args.device if torch.cuda.is_available() else 'cpu')\n",
    "args.device = torch.device(device)"
   ]
  },
  {
   "cell_type": "markdown",
   "metadata": {},
   "source": [
    "### Load Dataset"
   ]
  },
  {
   "cell_type": "code",
   "execution_count": null,
   "metadata": {},
   "outputs": [],
   "source": [
    "if args.dataset == 'cifar10':\n",
    "    #cifar10 train and eval used default transform (default)\n",
    "    benchmark = avalanche.benchmarks.SplitCIFAR10(n_experiences=args.increment,\n",
    "                                                  return_task_id=False,\n",
    "                                                  seed=args.seed,\n",
    "                                                  shuffle=True)\n",
    "elif args.dataset == 'cifar10':\n",
    "    #cifar100 train and eval used default transform\n",
    "    args.num_class = 100\n",
    "    benchmark = avalanche.benchmarks.SplitCIFAR100(n_experiences=args.increment,\n",
    "                                                  return_task_id=False,\n",
    "                                                  seed=args.seed,\n",
    "                                                  shuffle=True)"
   ]
  },
  {
   "cell_type": "markdown",
   "metadata": {},
   "source": [
    "### Evaulation"
   ]
  },
  {
   "cell_type": "code",
   "execution_count": null,
   "metadata": {},
   "outputs": [],
   "source": [
    "date = dt.datetime.now()\n",
    "date = date.strftime(\"%Y_%m_%d_%H_%M_%S\")\n",
    "\n",
    "interactive_logger = InteractiveLogger()\n",
    "tensor_logger = TensorboardLogger(\"logs/\" + args.dataset + '/' + date)\n",
    "\n",
    "eval_plugin = EvaluationPlugin(\n",
    "    EpochAccuracy(),\n",
    "    ExperienceAccuracy(),\n",
    "    StreamAccuracy(),\n",
    "    loggers=[interactive_logger, tensor_logger]\n",
    ")"
   ]
  },
  {
   "cell_type": "markdown",
   "metadata": {},
   "source": [
    "### Backbone Model"
   ]
  },
  {
   "cell_type": "code",
   "execution_count": null,
   "metadata": {},
   "outputs": [],
   "source": [
    "model = torchvision.models.resnet18(pretrained=False, num_classes=args.num_class)\n",
    "model.to(args.device)\n",
    "\n",
    "criterion = torch.nn.CrossEntropyLoss()\n",
    "optimizer = torch.optim.SGD(model.parameters(), lr=args.lr)\n",
    "\n",
    "# storage_policy = ClassBalancedBuffer(args.memory_size, adaptive_size=True)\n",
    "storage_policy = ReservoirSamplingBuffer(args.buffer_weights) # init = 0\n",
    "replay_plugin = ReplayPlugin(args.memory_size, storage_policy=storage_policy)"
   ]
  },
  {
   "cell_type": "code",
   "execution_count": null,
   "metadata": {},
   "outputs": [],
   "source": [
    "cl_strategy = avalanche.training.LwF(\n",
    "    model=model,\n",
    "    optimizer=optimizer,\n",
    "    criterion=criterion,\n",
    "    alpha=args.alpha,\n",
    "    temperature=args.temperature,\n",
    "    train_mb_size=args.train_mb,\n",
    "    train_epochs=args.epoch,\n",
    "    eval_mb_size=args.eval_mb,\n",
    "    device=args.device,\n",
    "    plugins=[replay_plugin],\n",
    "    evaluator=eval_plugin)"
   ]
  },
  {
   "cell_type": "code",
   "execution_count": null,
   "metadata": {},
   "outputs": [],
   "source": [
    "res = None\n",
    "for experience in benchmark.train_stream:\n",
    "    cl_strategy.train(experience)\n",
    "    res = cl_strategy.eval(benchmark.test_stream)"
   ]
  }
 ],
 "metadata": {
  "kernelspec": {
   "display_name": "lab",
   "language": "python",
   "name": "python3"
  },
  "language_info": {
   "codemirror_mode": {
    "name": "ipython",
    "version": 3
   },
   "file_extension": ".py",
   "mimetype": "text/x-python",
   "name": "python",
   "nbconvert_exporter": "python",
   "pygments_lexer": "ipython3",
   "version": "3.6.9"
  },
  "orig_nbformat": 4
 },
 "nbformat": 4,
 "nbformat_minor": 2
}
